{
 "cells": [
  {
   "cell_type": "code",
   "execution_count": null,
   "metadata": {},
   "outputs": [],
   "source": [
    "import boto3\n",
    "\n",
    "def get_services():\n",
    "    \"\"\"Return a list of all service names where listable resources can be present\"\"\"\n",
    "    return [service for service in sorted(boto3.Session().get_available_services())]\n",
    "\n",
    "print(get_services())"
   ]
  }
 ],
 "metadata": {
  "language_info": {
   "name": "python"
  },
  "orig_nbformat": 4
 },
 "nbformat": 4,
 "nbformat_minor": 2
}
