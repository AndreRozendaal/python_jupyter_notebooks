{
 "cells": [
  {
   "cell_type": "code",
   "execution_count": 3,
   "metadata": {},
   "outputs": [],
   "source": [
    "import sys\n",
    "\n",
    "path = \"c:\\\\config\" \n",
    "if path not in sys.path:\n",
    "    sys.path.insert(0, \"c:\\\\config\")\n",
    "\n",
    "import tado_config\n",
    "\n",
    "\n"
   ]
  },
  {
   "cell_type": "code",
   "execution_count": null,
   "metadata": {},
   "outputs": [],
   "source": [
    "pip install python-tado"
   ]
  },
  {
   "cell_type": "code",
   "execution_count": 25,
   "metadata": {},
   "outputs": [
    {
     "name": "stdout",
     "output_type": "stream",
     "text": [
      "Zone: Woonkamer(1) Temp: 18.75(set 19.0)  Humidity: 65.8\n",
      "Zone: Kantoor(2) Temp: 19.37(set 19.0)  Humidity: 67.0\n",
      "Zone: Jenna(3) Temp: 16.42(set 15.0)  Humidity: 70.2\n",
      "Zone: Merel(4) Temp: 16.55(set 15.0)  Humidity: 66.1\n"
     ]
    }
   ],
   "source": [
    "from PyTado.interface import Tado\n",
    "t = Tado(tado_config.email, tado_config.password)\n",
    "\n",
    "for zone in t.getZones():\n",
    "        if zone[\"type\"] == \"HEATING\": \n",
    "            climate = t.getClimate(zone[\"id\"])\n",
    "            state = t.getState(zone[\"id\"])\n",
    "            temp = climate[\"temperature\"]\n",
    "            humidity = climate[\"humidity\"]\n",
    "            temp_set = state[\"setting\"][\"temperature\"]['celsius']\n",
    "           \n",
    "            print(f\"Zone: {zone['name']}({zone['id']}) Temp: {temp}(set {temp_set})  Humidity: {humidity}\")\n"
   ]
  }
 ],
 "metadata": {
  "interpreter": {
   "hash": "fa68fa562eaff41950292ffeeffe93a3b1a180041b28b08536b256bcff5c6dae"
  },
  "kernelspec": {
   "display_name": "Python 3.7.9 64-bit",
   "name": "python3"
  },
  "language_info": {
   "codemirror_mode": {
    "name": "ipython",
    "version": 3
   },
   "file_extension": ".py",
   "mimetype": "text/x-python",
   "name": "python",
   "nbconvert_exporter": "python",
   "pygments_lexer": "ipython3",
   "version": "3.7.9"
  },
  "orig_nbformat": 4
 },
 "nbformat": 4,
 "nbformat_minor": 2
}
