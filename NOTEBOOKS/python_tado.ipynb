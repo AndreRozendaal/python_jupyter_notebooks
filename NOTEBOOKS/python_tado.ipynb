{
 "cells": [
  {
   "cell_type": "code",
   "execution_count": null,
   "metadata": {},
   "outputs": [],
   "source": [
    "import sys\n",
    "\n",
    "path = \"c:\\\\config\" \n",
    "if path not in sys.path:\n",
    "    sys.path.insert(0, \"c:\\\\config\")\n",
    "\n",
    "import tado_config\n",
    "\n",
    "\n"
   ]
  },
  {
   "cell_type": "code",
   "execution_count": null,
   "metadata": {},
   "outputs": [],
   "source": [
    "pip install python-tado"
   ]
  },
  {
   "cell_type": "code",
   "execution_count": null,
   "metadata": {},
   "outputs": [],
   "source": [
    "from PyTado.interface import Tado\n",
    "t = Tado(email, password)\n",
    "# print(t.getZones())\n",
    "for zone in t.getZones():\n",
    "        if zone[\"type\"] == \"HEATING\": \n",
    "            climate = t.getClimate(zone[\"id\"])\n",
    "            print(f\"{zone['id']} {zone['name']} {climate}\")\n",
    "\n",
    "\n"
   ]
  }
 ],
 "metadata": {
  "interpreter": {
   "hash": "fa68fa562eaff41950292ffeeffe93a3b1a180041b28b08536b256bcff5c6dae"
  },
  "kernelspec": {
   "display_name": "Python 3.7.9 64-bit",
   "name": "python3"
  },
  "language_info": {
   "codemirror_mode": {
    "name": "ipython",
    "version": 3
   },
   "file_extension": ".py",
   "mimetype": "text/x-python",
   "name": "python",
   "nbconvert_exporter": "python",
   "pygments_lexer": "ipython3",
   "version": "3.7.9"
  },
  "orig_nbformat": 4
 },
 "nbformat": 4,
 "nbformat_minor": 2
}
