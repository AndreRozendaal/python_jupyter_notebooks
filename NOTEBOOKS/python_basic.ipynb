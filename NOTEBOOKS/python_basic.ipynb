{
 "cells": [
  {
   "cell_type": "markdown",
   "metadata": {},
   "source": [
    "# Example of modulo and floor division operator"
   ]
  },
  {
   "cell_type": "code",
   "execution_count": 25,
   "metadata": {},
   "outputs": [
    {
     "name": "stdout",
     "output_type": "stream",
     "text": [
      "Remainder (modulo) of 10%5 = 0\n",
      "Floor division  10 // 5 = 2\n",
      "division  10 / 5 = 2.0\n",
      "\n",
      "Remainder (modulo) of 27%4 =  3\n",
      "Floor division  27 // 4 = 6\n",
      "division  27 / 4 = 6.75\n",
      "\n",
      "Remainder (modulo) of 40%3 =  1\n",
      "Floor division  40 // 3 = 13\n",
      "division  40 / 3 = 13.33\n"
     ]
    }
   ],
   "source": [
    "rem1 = 10 % 5\n",
    "floor1 = 10 // 5\n",
    "division1 = 10 /5\n",
    "print(f\"Remainder (modulo) of 10%5 = {rem1}\")\n",
    "print(f\"Floor division  10 // 5 = {floor1}\")\n",
    "print(f\"division  10 / 5 = {division1}\")\n",
    "\n",
    "print()\n",
    "rem2 = 27 % 4\n",
    "floor2 = 27 // 4\n",
    "division2 = 27 / 4\n",
    "print(\"Remainder (modulo) of 27%4 = \",rem2)\n",
    "print(f\"Floor division  27 // 4 = {floor2}\")\n",
    "print(f\"division  27 / 4 = {division2}\")\n",
    "\n",
    "print()\n",
    "rem3 = 40 % 3\n",
    "floor3 = 40 // 3\n",
    "division3 = 40 / 3\n",
    "print(\"Remainder (modulo) of 40%3 = \",rem3)\n",
    "print(f\"Floor division  40 // 3 = {floor3}\")\n",
    "print(f\"division  40 / 3 = {division3:.2f}\")"
   ]
  },
  {
   "cell_type": "markdown",
   "metadata": {},
   "source": [
    "# Operator Precedence\n",
    "| Priority| Operators      |\n",
    "|---------|----------------|\n",
    "| Highest | **             | \n",
    "|         | ~x +x -x       |\n",
    "|         | * / % //       |\n",
    "|         | + -            |\n",
    "|         | == != <= = < > |\n",
    "|         | is  is not     |\n",
    "| Lowest  | not            |\n"
   ]
  },
  {
   "cell_type": "code",
   "execution_count": 26,
   "metadata": {},
   "outputs": [
    {
     "name": "stdout",
     "output_type": "stream",
     "text": [
      " 3 * 4 + 5 = ( 3 * 4 ) +  5 = 17\n",
      " 5 + 4 / 2 ** 2 = 5 + (4 / (2 ** 2) = 6.0)\n"
     ]
    }
   ],
   "source": [
    "a = 3* 4 + 5\n",
    "print(f\" 3 * 4 + 5 = ( 3 * 4 ) +  5 = {a}\")\n",
    "\n",
    "b = 5 + 4 / 2 ** 2\n",
    "print(f\" 5 + 4 / 2 ** 2 = 5 + (4 / (2 ** 2) = {b})\")"
   ]
  },
  {
   "cell_type": "markdown",
   "metadata": {},
   "source": [
    "# Unpack in to variables"
   ]
  },
  {
   "cell_type": "code",
   "execution_count": 27,
   "metadata": {},
   "outputs": [],
   "source": [
    "try:\n",
    "    a , b, c = (1,2,3,4,5)  # returns: gives error\n",
    "except ValueError:\n",
    "    pass\n",
    "\n",
    "a, b, *c = (1,2,3,4,5)      # returns: a=1 b=2 c=[3,4,5]\n",
    "a, b, *_ = (1,2,3,4,5)      #  returns: a=1 b=2\n",
    "a, b, *c, d = (1,2,3,4,5)   # returns: a=1 b=2 c=[3,4] d=5\n"
   ]
  },
  {
   "cell_type": "markdown",
   "metadata": {},
   "source": [
    "# Enumerate"
   ]
  },
  {
   "cell_type": "code",
   "execution_count": 28,
   "metadata": {},
   "outputs": [
    {
     "name": "stdout",
     "output_type": "stream",
     "text": [
      "0 A\n",
      "1 B\n",
      "2 C\n",
      "\n",
      "10 A\n",
      "11 B\n",
      "12 C\n"
     ]
    }
   ],
   "source": [
    "names = ['A', 'B', 'C']\n",
    "for index, name in enumerate(names):\n",
    "  print(index, name)\n",
    "\n",
    "print()\n",
    "for index, name in enumerate(names,start=10):\n",
    "  print(index, name)"
   ]
  },
  {
   "cell_type": "markdown",
   "metadata": {},
   "source": [
    "# String comparison"
   ]
  },
  {
   "cell_type": "code",
   "execution_count": null,
   "metadata": {},
   "outputs": [],
   "source": []
  },
  {
   "cell_type": "code",
   "execution_count": 29,
   "metadata": {},
   "outputs": [
    {
     "name": "stdout",
     "output_type": "stream",
     "text": [
      "b is greater than a :  True\n",
      "a is greater  than A :  True\n",
      "a is greater than 1:  True\n",
      "The order,  highest first: a, A, 1\n",
      "\n",
      "aa is greater than a True\n",
      "Smits greater than smits :  False\n",
      "a greater than 111111 :  True\n",
      "11 greater than 8 :  False\n"
     ]
    }
   ],
   "source": [
    "print(\"b is greater than a : \" , 'b' > 'a')\n",
    "print(\"a is greater  than A : \", 'a' > 'A')\n",
    "print(\"a is greater than 1: \", 'a' > '1')\n",
    "print(\"The order,  highest first: a, A, 1\")\n",
    "print()\n",
    "print(\"aa is greater than a\", 'aa' > 'a')\n",
    "\n",
    "print(\"Smits greater than smits : \", 'Smits' > 'smits')\n",
    "print(\"a greater than 111111 : \", \"a\" > \"111111\")\n",
    "print(\"11 greater than 8 : \", \"11\" > \"8\")"
   ]
  },
  {
   "cell_type": "markdown",
   "metadata": {},
   "source": [
    "# convert string to int or float and otherwise\n",
    "\n",
    "int() can convert a string to a integer,  int(\"1\") good, int(\"1.0\") fail\n",
    "\n",
    "float() can convert a string to a float, float(\"1\") good, float(\"1.0\") fail "
   ]
  },
  {
   "cell_type": "code",
   "execution_count": 30,
   "metadata": {},
   "outputs": [
    {
     "ename": "ValueError",
     "evalue": "invalid literal for int() with base 10: '12.1'",
     "output_type": "error",
     "traceback": [
      "\u001b[1;31m---------------------------------------------------------------------------\u001b[0m",
      "\u001b[1;31mValueError\u001b[0m                                Traceback (most recent call last)",
      "\u001b[1;32m<ipython-input-30-7e654696547f>\u001b[0m in \u001b[0;36m<module>\u001b[1;34m\u001b[0m\n\u001b[0;32m      1\u001b[0m \u001b[0ms1\u001b[0m \u001b[1;33m=\u001b[0m \u001b[1;34m'12.1'\u001b[0m\u001b[1;33m\u001b[0m\u001b[1;33m\u001b[0m\u001b[0m\n\u001b[1;32m----> 2\u001b[1;33m \u001b[0mi\u001b[0m \u001b[1;33m=\u001b[0m \u001b[0mint\u001b[0m\u001b[1;33m(\u001b[0m\u001b[0ms1\u001b[0m\u001b[1;33m)\u001b[0m\u001b[1;33m\u001b[0m\u001b[1;33m\u001b[0m\u001b[0m\n\u001b[0m\u001b[0;32m      3\u001b[0m \u001b[0ms2\u001b[0m \u001b[1;33m=\u001b[0m \u001b[0mstr\u001b[0m\u001b[1;33m(\u001b[0m\u001b[0mi\u001b[0m\u001b[1;33m)\u001b[0m\u001b[1;33m\u001b[0m\u001b[1;33m\u001b[0m\u001b[0m\n\u001b[0;32m      4\u001b[0m \u001b[0mf\u001b[0m \u001b[1;33m=\u001b[0m \u001b[0mfloat\u001b[0m\u001b[1;33m(\u001b[0m\u001b[0ms2\u001b[0m\u001b[1;33m)\u001b[0m\u001b[1;33m\u001b[0m\u001b[1;33m\u001b[0m\u001b[0m\n\u001b[0;32m      5\u001b[0m \u001b[0mprint\u001b[0m\u001b[1;33m(\u001b[0m\u001b[0ms1\u001b[0m \u001b[1;33m==\u001b[0m \u001b[0ms2\u001b[0m\u001b[1;33m)\u001b[0m\u001b[1;33m\u001b[0m\u001b[1;33m\u001b[0m\u001b[0m\n",
      "\u001b[1;31mValueError\u001b[0m: invalid literal for int() with base 10: '12.1'"
     ]
    }
   ],
   "source": [
    "s1 = '12.1'\n",
    "i = int(s1)\n",
    "s2 = str(i)\n",
    "f = float(s2)\n",
    "print(s1 == s2)\n"
   ]
  },
  {
   "cell_type": "code",
   "execution_count": 35,
   "metadata": {},
   "outputs": [
    {
     "ename": "AssertionError",
     "evalue": "",
     "output_type": "error",
     "traceback": [
      "\u001b[1;31m---------------------------------------------------------------------------\u001b[0m",
      "\u001b[1;31mAssertionError\u001b[0m                            Traceback (most recent call last)",
      "\u001b[1;32m<ipython-input-35-7189dfd0f346>\u001b[0m in \u001b[0;36m<module>\u001b[1;34m\u001b[0m\n\u001b[0;32m      1\u001b[0m \u001b[1;32massert\u001b[0m \u001b[1;36m1\u001b[0m \u001b[1;33m==\u001b[0m \u001b[1;36m1\u001b[0m\u001b[1;33m\u001b[0m\u001b[1;33m\u001b[0m\u001b[0m\n\u001b[1;32m----> 2\u001b[1;33m \u001b[1;32massert\u001b[0m \u001b[1;36m1\u001b[0m \u001b[1;33m!=\u001b[0m \u001b[1;36m1\u001b[0m\u001b[1;33m\u001b[0m\u001b[1;33m\u001b[0m\u001b[0m\n\u001b[0m",
      "\u001b[1;31mAssertionError\u001b[0m: "
     ]
    }
   ],
   "source": [
    "assert 1 == 1\n",
    "assert 1 != 1"
   ]
  }
 ],
 "metadata": {
  "interpreter": {
   "hash": "fa68fa562eaff41950292ffeeffe93a3b1a180041b28b08536b256bcff5c6dae"
  },
  "kernelspec": {
   "display_name": "Python 3.7.9 64-bit",
   "name": "python3"
  },
  "language_info": {
   "codemirror_mode": {
    "name": "ipython",
    "version": 3
   },
   "file_extension": ".py",
   "mimetype": "text/x-python",
   "name": "python",
   "nbconvert_exporter": "python",
   "pygments_lexer": "ipython3",
   "version": "3.7.9"
  },
  "orig_nbformat": 4
 },
 "nbformat": 4,
 "nbformat_minor": 2
}
