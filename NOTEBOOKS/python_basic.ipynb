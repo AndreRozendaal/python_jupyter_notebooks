{
 "cells": [
  {
   "cell_type": "markdown",
   "metadata": {},
   "source": [
    "# Example of modulo and floor division operator"
   ]
  },
  {
   "cell_type": "code",
   "execution_count": 37,
   "metadata": {},
   "outputs": [
    {
     "name": "stdout",
     "output_type": "stream",
     "text": [
      "Remainder (modulo) of 10%5 = 0\n",
      "Floor division  10 // 5 = 2\n",
      "division  10 / 5 = 2.0\n",
      "\n",
      "Remainder (modulo) of 27%4 =  3\n",
      "Floor division  27 // 4 = 6\n",
      "division  27 / 4 = 6.75\n",
      "\n",
      "Remainder (modulo) of 40%3 =  1\n",
      "Floor division  40 // 3 = 13\n",
      "division  40 / 3 = 13.33\n"
     ]
    }
   ],
   "source": [
    "rem1 = 10 % 5\n",
    "floor1 = 10 // 5\n",
    "division1 = 10 /5\n",
    "print(f\"Remainder (modulo) of 10%5 = {rem1}\")\n",
    "print(f\"Floor division  10 // 5 = {floor1}\")\n",
    "print(f\"division  10 / 5 = {division1}\")\n",
    "\n",
    "print()\n",
    "rem2 = 27 % 4\n",
    "floor2 = 27 // 4\n",
    "division2 = 27 / 4\n",
    "print(\"Remainder (modulo) of 27%4 = \",rem2)\n",
    "print(f\"Floor division  27 // 4 = {floor2}\")\n",
    "print(f\"division  27 / 4 = {division2}\")\n",
    "\n",
    "print()\n",
    "rem3 = 40 % 3\n",
    "floor3 = 40 // 3\n",
    "division3 = 40 / 3\n",
    "print(\"Remainder (modulo) of 40%3 = \",rem3)\n",
    "print(f\"Floor division  40 // 3 = {floor3}\")\n",
    "print(f\"division  40 / 3 = {division3:.2f}\")"
   ]
  },
  {
   "cell_type": "markdown",
   "metadata": {},
   "source": [
    "# Operator Precedence\n",
    "| Priority| Operators      |\n",
    "|---------|----------------|\n",
    "| Highest | **             | \n",
    "|         | ~x +x -x       |\n",
    "|         | * / % //       |\n",
    "|         | + -            |\n",
    "|         | == != <= = < > |\n",
    "|         | is  is not     |\n",
    "| Lowest  | not            |\n"
   ]
  },
  {
   "cell_type": "code",
   "execution_count": 38,
   "metadata": {},
   "outputs": [
    {
     "name": "stdout",
     "output_type": "stream",
     "text": [
      " 3 * 4 + 5 = ( 3 * 4 ) +  5 = 17\n",
      " 5 + 4 / 2 ** 2 = 5 + (4 / (2 ** 2) = 6.0)\n"
     ]
    }
   ],
   "source": [
    "a = 3* 4 + 5\n",
    "print(f\" 3 * 4 + 5 = ( 3 * 4 ) +  5 = {a}\")\n",
    "\n",
    "b = 5 + 4 / 2 ** 2\n",
    "print(f\" 5 + 4 / 2 ** 2 = 5 + (4 / (2 ** 2) = {b})\")"
   ]
  },
  {
   "cell_type": "markdown",
   "metadata": {},
   "source": [
    "# Unpack in to variables"
   ]
  },
  {
   "cell_type": "code",
   "execution_count": 39,
   "metadata": {},
   "outputs": [],
   "source": [
    "try:\n",
    "    a , b, c = (1,2,3,4,5)  # returns: gives error\n",
    "except ValueError:\n",
    "    pass\n",
    "\n",
    "a, b, *c = (1,2,3,4,5)      # returns: a=1 b=2 c=[3,4,5]\n",
    "a, b, *_ = (1,2,3,4,5)      #  returns: a=1 b=2\n",
    "a, b, *c, d = (1,2,3,4,5)   # returns: a=1 b=2 c=[3,4] d=5\n"
   ]
  }
 ],
 "metadata": {
  "interpreter": {
   "hash": "fa68fa562eaff41950292ffeeffe93a3b1a180041b28b08536b256bcff5c6dae"
  },
  "kernelspec": {
   "display_name": "Python 3.7.9 64-bit",
   "name": "python3"
  },
  "language_info": {
   "codemirror_mode": {
    "name": "ipython",
    "version": 3
   },
   "file_extension": ".py",
   "mimetype": "text/x-python",
   "name": "python",
   "nbconvert_exporter": "python",
   "pygments_lexer": "ipython3",
   "version": "3.7.9"
  },
  "orig_nbformat": 4
 },
 "nbformat": 4,
 "nbformat_minor": 2
}
