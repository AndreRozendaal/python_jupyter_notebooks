{
 "cells": [
  {
   "cell_type": "markdown",
   "metadata": {},
   "source": [
    "# Class Example with: getter, setter, deleter and the decorator @property"
   ]
  },
  {
   "cell_type": "code",
   "execution_count": 1,
   "metadata": {},
   "outputs": [
    {
     "name": "stdout",
     "output_type": "stream",
     "text": [
      "Bob\n",
      "Bob.Dylan@email.com\n",
      "Bob Dylan\n",
      "Bertje\n",
      "Deleting\n",
      "None None\n",
      "12\n"
     ]
    }
   ],
   "source": [
    "class Person:\n",
    "    \"\"\" Age is a optional argument, not filled in you are 12\"\"\"\n",
    "    def __init__(self, firstname, lastname, age = 12):\n",
    "         self.firstname = firstname\n",
    "         self.lastname = lastname\n",
    "         # email only created by init, must create function as you want to change email if some change the firstname or lastname variable\n",
    "         self.email = firstname + '.' + lastname + \"@email.com\" \n",
    "         self.age = age\n",
    "\n",
    "    \"\"\" By @property you can get the value as a  variable (P1.fullname). Without you must get the value as a function (P1.fullname())\"\"\"\n",
    "    @property\n",
    "    def fullname(self):\n",
    "        return '{} {}'.format(self.firstname, self.lastname)\n",
    "\n",
    "    \"\"\" Now we have a property, we can not change the value of fullname, we can create a setter that handle variable assignment\n",
    "        P1.fullname = \"B B\"\n",
    "        the funcion fullname is defined twice, one by the property (getter) and one by the setter.\n",
    "    \"\"\"\n",
    "    @fullname.setter\n",
    "    def fullname(self, name):\n",
    "        firstname, lastname = name.split(' ')\n",
    "        self.firstname = firstname\n",
    "        self.lastname = lastname\n",
    "\n",
    "    \"\"\" If you delete the variable it runs the deleter, so if you do del P1.fullname its set firstname and lastname to None\"\"\"\n",
    "    @fullname.deleter\n",
    "    def fullname(self):\n",
    "        print(\"Deleting\")\n",
    "        self.firstname = None\n",
    "        self.lastname = None\n",
    "\n",
    "firstname = \"Bob\"\n",
    "lastname = \"Dylan\"\n",
    "P1 = Person(firstname,lastname)\n",
    "\n",
    "print(P1.firstname)\n",
    "print(P1.email)\n",
    "print(P1.fullname)   \n",
    "\n",
    "P1.fullname = \"Bertje Bakker\"\n",
    "print(P1.firstname)\n",
    "\n",
    "del P1.fullname\n",
    "print(P1.fullname)\n",
    "print(P1.age)\n"
   ]
  },
  {
   "cell_type": "markdown",
   "metadata": {},
   "source": [
    "# Class Example: decorators @classmethod and @staticmethod"
   ]
  },
  {
   "cell_type": "code",
   "execution_count": 2,
   "metadata": {},
   "outputs": [
    {
     "name": "stdout",
     "output_type": "stream",
     "text": [
      "first last\n",
      "True\n",
      "True\n"
     ]
    }
   ],
   "source": [
    "class Person:\n",
    "\n",
    "    \"\"\" Age is a optional argument, not filled in you are 12\"\"\"\n",
    "    def __init__(self, firstname, lastname, age = 12):\n",
    "         self.firstname = firstname\n",
    "         self.lastname = lastname\n",
    "         # email only created by init, must create function as you want to change email if some change the firstname or lastname variable\n",
    "         self.email = firstname + '.' + lastname + \"@email.com\" \n",
    "         self.age = age\n",
    "\n",
    "    \"\"\" By @property you can get the value as a  variable (P1.fullname). Without you must get the value as a function (P1.fullname())\"\"\"\n",
    "    @property\n",
    "    def fullname(self):\n",
    "        return '{} {}'.format(self.firstname, self.lastname)\n",
    "\n",
    "    \"\"\" We can also create on otherway a class with a classmethod. Now we can create a class with from_string\n",
    "        A1 = Person.from_string(\"firstname lastname\"), normally we did A1 = Person(\"firstname\", \"lastname\")\n",
    "    \"\"\"\n",
    "    @classmethod\n",
    "    def from_string(cls, name):\n",
    "        firstname, lastname = name.split(' ')\n",
    "        return cls(firstname,lastname)\n",
    "\n",
    "    \"\"\" static method is a function that not interact with the class. use not the self or cls variable.\"\"\"\n",
    "    @staticmethod\n",
    "    def is_good_name(name):\n",
    "        contains_digit = any(map(str.isdigit, name))\n",
    "        if len(name) > 1 and not contains_digit:\n",
    "            return True\n",
    "        else:\n",
    "            return False\n",
    "\n",
    "A1 = Person.from_string(\"first last\")\n",
    "print(A1.fullname)\n",
    "\n",
    "print(A1.is_good_name(A1.fullname))\n",
    "print(Person.is_good_name(\"Andre\"))"
   ]
  },
  {
   "cell_type": "markdown",
   "metadata": {},
   "source": [
    "# Class inheritance"
   ]
  },
  {
   "cell_type": "code",
   "execution_count": 3,
   "metadata": {},
   "outputs": [
    {
     "name": "stdout",
     "output_type": "stream",
     "text": [
      "Normal Person\n",
      "Special Person\n",
      "Agent number 007 \n"
     ]
    }
   ],
   "source": [
    "\"\"\" Example class inheritance \"\"\"\n",
    "\n",
    "class Person:\n",
    "    \"\"\" Age is a optional argument, not filled in you are 12\"\"\"\n",
    "    def __init__(self, firstname, lastname, age = 12):\n",
    "         self.firstname = firstname\n",
    "         self.lastname = lastname\n",
    "         # email only created by init, must create function as you want to change email if some change the firstname or lastname variable\n",
    "         self.email = firstname + '.' + lastname + \"@email.com\" \n",
    "         self.age = age\n",
    "\n",
    "    \"\"\" By @property you can get the value as a variable (P1.fullname). Without you must get the value as a function (P1.fullname())\"\"\"\n",
    "    @property\n",
    "    def fullname(self):\n",
    "        return '{} {}'.format(self.firstname, self.lastname)\n",
    "\n",
    "    \"\"\" We can also create on otherway a class with a classmethod. Now we can create a class with from_string\n",
    "        A1 = Person.from_string(\"firstname lastname\"), normally we did A1 = Person(\"firstname\", \"lastname\")\n",
    "    \"\"\"\n",
    "\n",
    "class Special_Person(Person):\n",
    "    def __init__(self, firstname,lastname, agent_number):\n",
    "        super().__init__(firstname,lastname)\n",
    "        self.agent_number = agent_number\n",
    "\n",
    "    @property\n",
    "    def agent(self):\n",
    "        return(f\"Agent number { self.agent_number} \")\n",
    "\n",
    "C1 = Person(\"Normal\", \"Person\")\n",
    "C2 = Special_Person(\"Special\", \"Person\", \"007\")\n",
    "\n",
    "print(C1.fullname)\n",
    "print(C2.fullname)\n",
    "print(C2.agent)\n"
   ]
  },
  {
   "cell_type": "markdown",
   "metadata": {},
   "source": [
    "# Class Example Magic/Dunder methods"
   ]
  },
  {
   "cell_type": "code",
   "execution_count": 4,
   "metadata": {},
   "outputs": [
    {
     "name": "stdout",
     "output_type": "stream",
     "text": [
      "Normal Person 12\n",
      "Person('Normal','Person','12')\n",
      "37\n",
      "-13\n",
      "13\n",
      "{'firstname': 'Normal', 'lastname': 'Person', 'email': 'Normal.Person@email.com', 'age': 12}\n"
     ]
    }
   ],
   "source": [
    "\"\"\" Magic/Dunder methods \"\"\"\n",
    "\n",
    "class Person:\n",
    "    \"\"\" Age is a optional argument, not filled in you are 12\"\"\"\n",
    "    def __init__(self, firstname, lastname, age = 12):\n",
    "         self.firstname = firstname\n",
    "         self.lastname = lastname\n",
    "         # email only created by init, must create function as you want to change email if some change the firstname or lastname variable\n",
    "         self.email = firstname + '.' + lastname + \"@email.com\" \n",
    "         self.age = age\n",
    "\n",
    "    \"\"\" By @property you can get the value as a  variable (P1.fullname). Without you must get the value as a function (P1.fullname())\"\"\"\n",
    "    @property\n",
    "    def fullname(self):\n",
    "        return '{} {}'.format(self.firstname, self.lastname)\n",
    "\n",
    "    \"\"\" We can also create on othwerway a class with a classmethod. Now we can create a class with from_string\n",
    "        A1 = Person.from_string(\"firstname lastname\"), normally we did A1 = Person(\"firstname\", \"lastname\")\n",
    "    \"\"\"\n",
    "\n",
    "    \"\"\"  __repr__  is more for logging and debugging\"\"\"\n",
    "    def __repr__(self):\n",
    "        return \"Person('{}','{}','{}')\".format(self.firstname, self.lastname, self.age)\n",
    "\n",
    "    \"\"\" __str__ is a nice representation more for the end user\"\"\"\n",
    "    def __str__(self):\n",
    "        return \"{} {}\".format(self.fullname, self.age)\n",
    "\n",
    "    def __add__(self,other):\n",
    "        return self.age + other.age\n",
    "\n",
    "    def __sub__(self,other):\n",
    "        return self.age - other.age\n",
    "    \n",
    "    def __len__(self):\n",
    "        return len(self.fullname)\n",
    "    \n",
    "    # if not yet implemented, return cont NotImplemented\n",
    "    def __mul__(self):\n",
    "        return NotImplemented\n",
    "\n",
    "D1 = Person(\"Normal\", \"Person\")\n",
    "D2 = Person(\"Normal\", \"Person\", 25)\n",
    "# print(D1.fullname)\n",
    "print(D1)\n",
    "print(repr(D1))\n",
    "\n",
    "# add the two ages and print (12 + 25)\n",
    "print(D1 + D2)\n",
    "\n",
    "# add the two ages and print (12 - 25)\n",
    "print(D1 - D2)\n",
    "\n",
    "# length __len__ method, implemente lenght of fullname\n",
    "print(len(D1))\n",
    "\n",
    "# Print all class variable  \n",
    "print(D1.__dict__)"
   ]
  },
  {
   "cell_type": "markdown",
   "metadata": {},
   "source": [
    "# Using a Enumerate class, for limiting option and eliminated typos"
   ]
  },
  {
   "cell_type": "code",
   "execution_count": 2,
   "metadata": {},
   "outputs": [
    {
     "name": "stdout",
     "output_type": "stream",
     "text": [
      "WAITING_APPROVAL\n",
      "WAITING_APPROVAL\n",
      "{'status': <Status.WAITING_APPROVAL: 'WAITING_APPROVAL'>, 'firstname': 'bert', 'lastname': 'bakker'}\n"
     ]
    }
   ],
   "source": [
    "import enum\n",
    "\n",
    "# Using enum class create enumerations\n",
    "class Status(enum.Enum):\n",
    "   WAITING_APPROVAL = \"WAITING_APPROVAL\"\n",
    "   PROVISIONING = \"PROVISIONING\"\n",
    "   ACTIVE = \"ACTIVE\"\n",
    "   SUSPENDED = \"SUSPENDED\"\n",
    "\n",
    "# Class that using the enumerate class\n",
    "class Account_Request():\n",
    "    def __init__(self, firstname: str, lastname:str, status: Status): \n",
    "           self.status = status\n",
    "           self. firstname = firstname\n",
    "           self.lastname = lastname\n",
    "    \n",
    "    def show_status(self):\n",
    "        print(self.status.name)\n",
    "        print(self.status.value)\n",
    "\n",
    "\n",
    "Account = Account_Request(\"bert\",\"bakker\", Status.WAITING_APPROVAL)\n",
    "Account.show_status()\n"
   ]
  }
 ],
 "metadata": {
  "interpreter": {
   "hash": "fa68fa562eaff41950292ffeeffe93a3b1a180041b28b08536b256bcff5c6dae"
  },
  "kernelspec": {
   "display_name": "Python 3.7.9 64-bit",
   "name": "python3"
  },
  "language_info": {
   "codemirror_mode": {
    "name": "ipython",
    "version": 3
   },
   "file_extension": ".py",
   "mimetype": "text/x-python",
   "name": "python",
   "nbconvert_exporter": "python",
   "pygments_lexer": "ipython3",
   "version": "3.7.9"
  },
  "orig_nbformat": 4
 },
 "nbformat": 4,
 "nbformat_minor": 2
}
